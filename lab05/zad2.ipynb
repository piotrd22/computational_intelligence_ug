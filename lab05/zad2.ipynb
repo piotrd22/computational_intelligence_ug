{
 "cells": [
  {
   "cell_type": "code",
   "execution_count": 1,
   "metadata": {},
   "outputs": [],
   "source": [
    "import pandas as pd\n",
    "from sklearn.model_selection import train_test_split"
   ]
  },
  {
   "cell_type": "code",
   "execution_count": 2,
   "metadata": {},
   "outputs": [],
   "source": [
    "df = pd.read_csv(\"iris.csv\")\n",
    "\n",
    "(train_set, test_set) = train_test_split(df.values, train_size=0.7, random_state=277992)"
   ]
  },
  {
   "cell_type": "code",
   "execution_count": 3,
   "metadata": {},
   "outputs": [],
   "source": [
    "def classify_iris(sl, sw, pl, pw):\n",
    "  if sl <= 5.7 and sw <= 4.4 and pl < 2 or pw < 0.7:\n",
    "    return(\"setosa\")\n",
    "  elif sl > 5.5 and sw > 2.7 and sw < 3.2 and pl > 5 or pw > 1.5:\n",
    "    return(\"virginica\")\n",
    "  else:\n",
    "    return(\"versicolor\")"
   ]
  },
  {
   "cell_type": "code",
   "execution_count": 4,
   "metadata": {},
   "outputs": [
    {
     "name": "stdout",
     "output_type": "stream",
     "text": [
      "97.77777777777777%\n"
     ]
    }
   ],
   "source": [
    "good_results = 0\n",
    "len = test_set.shape[0]\n",
    "for i in test_set:\n",
    "  if classify_iris(i[0], i[1], i[2], i[3]) == i[4]:\n",
    "    good_results += 1\n",
    "\n",
    "print(f\"{good_results/len * 100}%\")"
   ]
  }
 ],
 "metadata": {
  "kernelspec": {
   "display_name": "Python 3",
   "language": "python",
   "name": "python3"
  },
  "language_info": {
   "codemirror_mode": {
    "name": "ipython",
    "version": 3
   },
   "file_extension": ".py",
   "mimetype": "text/x-python",
   "name": "python",
   "nbconvert_exporter": "python",
   "pygments_lexer": "ipython3",
   "version": "3.11.2"
  },
  "orig_nbformat": 4
 },
 "nbformat": 4,
 "nbformat_minor": 2
}
