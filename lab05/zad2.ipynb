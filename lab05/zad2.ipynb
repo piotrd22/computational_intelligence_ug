{
 "cells": [
  {
   "cell_type": "code",
   "execution_count": 1,
   "metadata": {},
   "outputs": [],
   "source": [
    "import pandas as pd\n",
    "from sklearn.model_selection import train_test_split"
   ]
  },
  {
   "cell_type": "code",
   "execution_count": 2,
   "metadata": {},
   "outputs": [],
   "source": [
    "df = pd.read_csv(\"iris.csv\")\n",
    "\n",
    "(train_set, test_set) = train_test_split(df.values, train_size=0.7, random_state=277992)"
   ]
  },
  {
   "cell_type": "code",
   "execution_count": 3,
   "metadata": {},
   "outputs": [],
   "source": [
    "def classify_iris(sl, sw, pl, pw):\n",
    "  if sl <= 5.7 and sw <= 4.4 and pl < 2 or pw < 0.7:\n",
    "    return(\"setosa\")\n",
    "  elif sl > 5.5 and sw > 2.7 and sw < 3.2 and pl > 5 or pw > 1.5:\n",
    "    return(\"virginica\")\n",
    "  else:\n",
    "    return(\"versicolor\")"
   ]
  },
  {
   "cell_type": "code",
   "execution_count": 4,
   "metadata": {},
   "outputs": [
    {
     "name": "stdout",
     "output_type": "stream",
     "text": [
      "[[4.9 3.0 1.4 0.2 'setosa']\n",
      " [4.9 3.1 1.5 0.1 'setosa']\n",
      " [5.8 2.7 5.1 1.9 'virginica']\n",
      " [6.0 2.2 5.0 1.5 'virginica']\n",
      " [6.8 3.0 5.5 2.1 'virginica']\n",
      " [7.6 3.0 6.6 2.1 'virginica']\n",
      " [6.2 3.4 5.4 2.3 'virginica']\n",
      " [6.5 3.2 5.1 2.0 'virginica']\n",
      " [5.7 3.0 4.2 1.2 'versicolor']\n",
      " [5.4 3.4 1.5 0.4 'setosa']\n",
      " [6.3 2.5 5.0 1.9 'virginica']\n",
      " [6.4 3.1 5.5 1.8 'virginica']\n",
      " [5.0 2.0 3.5 1.0 'versicolor']\n",
      " [5.6 2.9 3.6 1.3 'versicolor']\n",
      " [5.8 2.6 4.0 1.2 'versicolor']\n",
      " [5.0 3.3 1.4 0.2 'setosa']\n",
      " [5.0 3.4 1.5 0.2 'setosa']\n",
      " [6.7 3.3 5.7 2.5 'virginica']\n",
      " [7.7 3.0 6.1 2.3 'virginica']\n",
      " [6.4 2.9 4.3 1.3 'versicolor']\n",
      " [5.5 2.3 4.0 1.3 'versicolor']\n",
      " [7.2 3.2 6.0 1.8 'virginica']\n",
      " [5.8 2.7 5.1 1.9 'virginica']\n",
      " [6.0 3.0 4.8 1.8 'virginica']\n",
      " [5.7 3.8 1.7 0.3 'setosa']\n",
      " [6.2 2.9 4.3 1.3 'versicolor']\n",
      " [6.0 3.4 4.5 1.6 'versicolor']\n",
      " [5.1 3.5 1.4 0.3 'setosa']\n",
      " [7.7 3.8 6.7 2.2 'virginica']\n",
      " [4.9 2.5 4.5 1.7 'virginica']\n",
      " [6.7 3.0 5.2 2.3 'virginica']\n",
      " [5.7 2.9 4.2 1.3 'versicolor']\n",
      " [6.2 2.2 4.5 1.5 'versicolor']\n",
      " [6.1 2.6 5.6 1.4 'virginica']\n",
      " [4.6 3.6 1.0 0.2 'setosa']\n",
      " [5.1 3.8 1.5 0.3 'setosa']\n",
      " [4.9 3.1 1.5 0.1 'setosa']\n",
      " [5.2 2.7 3.9 1.4 'versicolor']\n",
      " [6.7 3.1 5.6 2.4 'virginica']\n",
      " [7.3 2.9 6.3 1.8 'virginica']\n",
      " [6.4 2.7 5.3 1.9 'virginica']\n",
      " [5.4 3.9 1.3 0.4 'setosa']\n",
      " [7.2 3.0 5.8 1.6 'virginica']\n",
      " [6.7 2.5 5.8 1.8 'virginica']\n",
      " [5.4 3.7 1.5 0.2 'setosa']\n",
      " [5.5 2.4 3.7 1.0 'versicolor']\n",
      " [6.5 3.0 5.2 2.0 'virginica']\n",
      " [6.4 2.8 5.6 2.1 'virginica']\n",
      " [6.3 2.7 4.9 1.8 'virginica']\n",
      " [6.4 3.2 5.3 2.3 'virginica']\n",
      " [7.7 2.8 6.7 2.0 'virginica']\n",
      " [7.7 2.6 6.9 2.3 'virginica']\n",
      " [6.3 3.4 5.6 2.4 'virginica']\n",
      " [6.0 2.2 4.0 1.0 'versicolor']\n",
      " [6.3 2.3 4.4 1.3 'versicolor']\n",
      " [6.1 2.8 4.0 1.3 'versicolor']\n",
      " [5.5 2.5 4.0 1.3 'versicolor']\n",
      " [6.7 3.1 4.4 1.4 'versicolor']\n",
      " [5.1 3.7 1.5 0.4 'setosa']\n",
      " [6.3 3.3 6.0 2.5 'virginica']\n",
      " [4.9 3.1 1.5 0.1 'setosa']\n",
      " [4.8 3.4 1.6 0.2 'setosa']\n",
      " [5.8 2.8 5.1 2.4 'virginica']\n",
      " [6.6 3.0 4.4 1.4 'versicolor']\n",
      " [5.8 4.0 1.2 0.2 'setosa']\n",
      " [6.1 3.0 4.9 1.8 'virginica']\n",
      " [4.6 3.1 1.5 0.2 'setosa']\n",
      " [5.1 2.5 3.0 1.1 'versicolor']\n",
      " [6.2 2.8 4.8 1.8 'virginica']\n",
      " [5.2 3.4 1.4 0.2 'setosa']\n",
      " [5.6 3.0 4.5 1.5 'versicolor']\n",
      " [7.9 3.8 6.4 2.0 'virginica']\n",
      " [5.1 3.8 1.6 0.2 'setosa']\n",
      " [5.7 2.5 5.0 2.0 'virginica']\n",
      " [4.8 3.0 1.4 0.1 'setosa']\n",
      " [5.5 2.6 4.4 1.2 'versicolor']\n",
      " [6.0 2.9 4.5 1.5 'versicolor']\n",
      " [7.2 3.6 6.1 2.5 'virginica']\n",
      " [5.5 3.5 1.3 0.2 'setosa']\n",
      " [7.1 3.0 5.9 2.1 'virginica']\n",
      " [5.6 2.7 4.2 1.3 'versicolor']\n",
      " [6.5 2.8 4.6 1.5 'versicolor']\n",
      " [6.8 2.8 4.8 1.4 'versicolor']\n",
      " [5.7 4.4 1.5 0.4 'setosa']\n",
      " [6.4 3.2 4.5 1.5 'versicolor']\n",
      " [5.2 3.5 1.5 0.2 'setosa']\n",
      " [5.6 3.0 4.1 1.3 'versicolor']\n",
      " [6.9 3.1 5.1 2.3 'virginica']\n",
      " [5.1 3.5 1.4 0.2 'setosa']\n",
      " [6.8 3.2 5.9 2.3 'virginica']\n",
      " [5.9 3.0 5.1 1.8 'virginica']\n",
      " [5.4 3.0 4.5 1.5 'versicolor']\n",
      " [6.6 2.9 4.6 1.3 'versicolor']\n",
      " [6.9 3.2 5.7 2.3 'virginica']\n",
      " [4.9 2.4 3.3 1.0 'versicolor']\n",
      " [4.7 3.2 1.6 0.2 'setosa']\n",
      " [4.8 3.0 1.4 0.3 'setosa']\n",
      " [6.3 3.3 4.7 1.6 'versicolor']\n",
      " [6.3 2.9 5.6 1.8 'virginica']\n",
      " [5.4 3.4 1.7 0.2 'setosa']\n",
      " [5.3 3.7 1.5 0.2 'setosa']\n",
      " [6.0 2.7 5.1 1.6 'versicolor']\n",
      " [5.0 3.6 1.4 0.2 'setosa']\n",
      " [5.9 3.2 4.8 1.8 'versicolor']\n",
      " [6.1 2.8 4.7 1.2 'versicolor']]\n"
     ]
    }
   ],
   "source": [
    "print(train_set)"
   ]
  },
  {
   "cell_type": "code",
   "execution_count": 5,
   "metadata": {},
   "outputs": [
    {
     "name": "stdout",
     "output_type": "stream",
     "text": [
      "95.55555555555556%\n"
     ]
    }
   ],
   "source": [
    "good_results = 0\n",
    "len = test_set.shape[0]\n",
    "for i in test_set:\n",
    "  if classify_iris(i[0], i[1], i[2], i[3]) == i[4]:\n",
    "    good_results += 1\n",
    "\n",
    "print(f\"{good_results/len * 100}%\")"
   ]
  }
 ],
 "metadata": {
  "kernelspec": {
   "display_name": "Python 3",
   "language": "python",
   "name": "python3"
  },
  "language_info": {
   "codemirror_mode": {
    "name": "ipython",
    "version": 3
   },
   "file_extension": ".py",
   "mimetype": "text/x-python",
   "name": "python",
   "nbconvert_exporter": "python",
   "pygments_lexer": "ipython3",
   "version": "3.11.2"
  },
  "orig_nbformat": 4
 },
 "nbformat": 4,
 "nbformat_minor": 2
}
