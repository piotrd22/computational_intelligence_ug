{
 "cells": [
  {
   "cell_type": "code",
   "execution_count": 24,
   "metadata": {},
   "outputs": [],
   "source": [
    "import gym\n",
    "import pygad"
   ]
  },
  {
   "cell_type": "code",
   "execution_count": 25,
   "metadata": {},
   "outputs": [],
   "source": [
    "# 0 - left, 1 - down, 2 - right, 3 - up\n",
    "gene_space = [0, 1, 2, 3]"
   ]
  },
  {
   "attachments": {},
   "cell_type": "markdown",
   "metadata": {},
   "source": [
    "### Fitness func\n",
    "\n",
    "The fitness function simulates the movements step by step\n",
    "The evaluating value is reward and it is based on data from the environment\n",
    "0 if it doesn't go to the end, 1 if it goes to the end"
   ]
  },
  {
   "cell_type": "code",
   "execution_count": 26,
   "metadata": {},
   "outputs": [],
   "source": [
    "\n",
    "def fitness_func(solution, solution_idx):\n",
    "    env = gym.make('FrozenLake8x8-v1', is_slippery=False)\n",
    "    env.reset(seed=42)\n",
    "\n",
    "    fitness = 0\n",
    "\n",
    "    for action in solution:\n",
    "        _, reward, terminated, truncated, _ = env.step(action)\n",
    "        fitness += reward\n",
    "\n",
    "        if terminated or truncated:\n",
    "            break\n",
    "\n",
    "    return fitness\n"
   ]
  },
  {
   "cell_type": "code",
   "execution_count": 27,
   "metadata": {},
   "outputs": [],
   "source": [
    "sol_per_pop = 180\n",
    "num_genes = 20\n",
    "num_parents_mating = 60\n",
    "num_generations = 900\n",
    "keep_parents = 45\n",
    "#sss = steady, rws=roulette, rank = rankingowa, tournament = turniejowa\n",
    "parent_selection_type = \"sss\"\n",
    "crossover_type = \"single_point\"\n",
    "mutation_type = \"random\"\n",
    "mutation_percent_genes = 8"
   ]
  },
  {
   "cell_type": "code",
   "execution_count": 28,
   "metadata": {},
   "outputs": [
    {
     "name": "stdout",
     "output_type": "stream",
     "text": [
      "Best solution:  [2. 2. 2. 2. 2. 2. 3. 3. 0. 1. 2. 1. 2. 1. 1. 1. 1. 1. 3. 0.]\n",
      "Fitness:  1.0\n"
     ]
    }
   ],
   "source": [
    "ga_instance = pygad.GA(\n",
    "    gene_space=gene_space,\n",
    "    num_generations=num_generations,\n",
    "    num_parents_mating=num_parents_mating,\n",
    "    fitness_func=fitness_func,\n",
    "    sol_per_pop=sol_per_pop,\n",
    "    num_genes= num_genes,\n",
    "    parent_selection_type=parent_selection_type,\n",
    "    keep_parents=keep_parents,\n",
    "    crossover_type=crossover_type,\n",
    "    mutation_type=mutation_type,\n",
    "    mutation_percent_genes=mutation_percent_genes,\n",
    "    stop_criteria=[\"reach_1\"]\n",
    ")\n",
    "\n",
    "ga_instance.run()\n",
    "\n",
    "solution, solution_fitness, solution_idx = ga_instance.best_solution()\n",
    "print(\"Best solution: \", solution)\n",
    "print(\"Fitness: \", solution_fitness)"
   ]
  },
  {
   "cell_type": "code",
   "execution_count": 29,
   "metadata": {},
   "outputs": [],
   "source": [
    "\n",
    "if solution_fitness == 1.0:\n",
    "    env = gym.make('FrozenLake8x8-v1', is_slippery=False, render_mode=\"human\")\n",
    "    env.reset(seed=42)\n",
    "    for action in solution:\n",
    "        action = int(action)\n",
    "        env.render()\n",
    "        observation, reward, terminated, truncated, info = env.step(action)\n",
    "        if terminated or truncated:\n",
    "            break\n",
    "    env.close()\n"
   ]
  }
 ],
 "metadata": {
  "kernelspec": {
   "display_name": "Python 3",
   "language": "python",
   "name": "python3"
  },
  "language_info": {
   "codemirror_mode": {
    "name": "ipython",
    "version": 3
   },
   "file_extension": ".py",
   "mimetype": "text/x-python",
   "name": "python",
   "nbconvert_exporter": "python",
   "pygments_lexer": "ipython3",
   "version": "3.11.2"
  },
  "orig_nbformat": 4
 },
 "nbformat": 4,
 "nbformat_minor": 2
}
