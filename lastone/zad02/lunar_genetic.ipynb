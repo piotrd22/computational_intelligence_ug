{
 "cells": [
  {
   "cell_type": "code",
   "execution_count": 55,
   "metadata": {},
   "outputs": [],
   "source": [
    "import gym\n",
    "import pygad"
   ]
  },
  {
   "cell_type": "code",
   "execution_count": 56,
   "metadata": {},
   "outputs": [],
   "source": [
    "# 0 - do nothing, 1 - left engine, 2 - main engine, 3 - right engine\n",
    "\n",
    "gene_space = [0, 1, 2, 3]"
   ]
  },
  {
   "attachments": {},
   "cell_type": "markdown",
   "metadata": {},
   "source": [
    "### Fitness func\n",
    "\n",
    "The fitness function simulates step-by-step movements\n",
    "The evaluating value is the reward and it is based on data from the environment.\n",
    "Fitness around 150 is a good landing."
   ]
  },
  {
   "cell_type": "code",
   "execution_count": 57,
   "metadata": {},
   "outputs": [],
   "source": [
    "def fitness_func(solution, solution_idx):\n",
    "    env = gym.make(\"LunarLander-v2\")\n",
    "    env.reset(seed=42)\n",
    "\n",
    "    fitness = 0\n",
    "\n",
    "    for action in solution:\n",
    "        action = int(action)\n",
    "        _, reward, terminated, truncated, _ = env.step(action)\n",
    "        fitness += reward\n",
    "\n",
    "        if terminated or truncated:\n",
    "            break\n",
    "\n",
    "    return fitness\n"
   ]
  },
  {
   "cell_type": "code",
   "execution_count": 58,
   "metadata": {},
   "outputs": [],
   "source": [
    "sol_per_pop = 180\n",
    "num_genes = 300\n",
    "num_parents_mating = 60\n",
    "num_generations = 900\n",
    "keep_parents = 45\n",
    "#sss = steady, rws=roulette, rank = rankingowa, tournament = turniejowa\n",
    "parent_selection_type = \"sss\"\n",
    "crossover_type = \"single_point\"\n",
    "mutation_type = \"random\"\n",
    "mutation_percent_genes = 8"
   ]
  },
  {
   "cell_type": "code",
   "execution_count": 59,
   "metadata": {},
   "outputs": [
    {
     "name": "stdout",
     "output_type": "stream",
     "text": [
      "Best solution:  [1. 0. 0. 0. 1. 1. 2. 1. 0. 0. 2. 1. 0. 0. 1. 3. 2. 0. 2. 0. 0. 0. 1. 2.\n",
      " 2. 2. 1. 0. 0. 3. 0. 1. 1. 1. 3. 0. 0. 3. 3. 2. 0. 3. 1. 2. 3. 3. 1. 1.\n",
      " 2. 0. 3. 0. 2. 0. 0. 0. 1. 3. 2. 2. 0. 0. 0. 3. 2. 1. 2. 2. 2. 3. 2. 2.\n",
      " 2. 3. 2. 3. 3. 0. 2. 1. 0. 2. 0. 2. 3. 2. 2. 2. 2. 3. 0. 2. 2. 1. 2. 3.\n",
      " 0. 2. 0. 3. 3. 0. 0. 0. 1. 2. 2. 3. 2. 1. 2. 1. 2. 3. 0. 0. 0. 0. 3. 3.\n",
      " 2. 2. 2. 3. 3. 1. 2. 2. 2. 3. 3. 0. 1. 2. 1. 2. 1. 3. 2. 2. 1. 1. 1. 3.\n",
      " 2. 0. 0. 0. 2. 0. 1. 3. 3. 0. 1. 2. 2. 1. 3. 3. 0. 3. 1. 0. 2. 1. 0. 3.\n",
      " 1. 1. 0. 2. 3. 3. 2. 0. 3. 3. 3. 1. 1. 3. 3. 3. 1. 0. 3. 0. 3. 0. 0. 2.\n",
      " 1. 3. 3. 0. 1. 3. 0. 0. 2. 2. 3. 2. 3. 2. 0. 1. 0. 0. 3. 0. 2. 2. 3. 1.\n",
      " 3. 3. 0. 3. 2. 3. 3. 3. 1. 3. 3. 2. 2. 1. 2. 1. 1. 3. 3. 0. 1. 2. 2. 2.\n",
      " 1. 0. 0. 1. 2. 2. 3. 1. 3. 3. 2. 1. 2. 2. 2. 0. 1. 0. 0. 3. 1. 2. 2. 3.\n",
      " 3. 2. 2. 1. 0. 1. 3. 0. 3. 3. 0. 3. 0. 1. 1. 0. 1. 0. 3. 3. 2. 0. 3. 1.\n",
      " 1. 2. 0. 0. 2. 1. 0. 0. 3. 3. 1. 3.]\n",
      "Fitness:  167.65974078426115\n"
     ]
    }
   ],
   "source": [
    "ga_instance = pygad.GA(\n",
    "    gene_space=gene_space,\n",
    "    num_generations=num_generations,\n",
    "    num_parents_mating=num_parents_mating,\n",
    "    fitness_func=fitness_func,\n",
    "    sol_per_pop=sol_per_pop,\n",
    "    num_genes= num_genes,\n",
    "    parent_selection_type=parent_selection_type,\n",
    "    keep_parents=keep_parents,\n",
    "    crossover_type=crossover_type,\n",
    "    mutation_type=mutation_type,\n",
    "    mutation_percent_genes=mutation_percent_genes,\n",
    "    stop_criteria=[\"reach_15 0\"]\n",
    ")\n",
    "\n",
    "ga_instance.run()\n",
    "\n",
    "solution, solution_fitness, solution_idx = ga_instance.best_solution()\n",
    "print(\"Best solution: \", solution)\n",
    "print(\"Fitness: \", solution_fitness)"
   ]
  },
  {
   "cell_type": "code",
   "execution_count": 60,
   "metadata": {},
   "outputs": [],
   "source": [
    "if solution_fitness > 99:\n",
    "\n",
    "    env = gym.make(\"LunarLander-v2\", render_mode=\"human\")\n",
    "    env.reset(seed=42)\n",
    "\n",
    "    for action in solution:\n",
    "        action = int(action)\n",
    "        env.render()\n",
    "        observation, reward, terminated, truncated, info = env.step(action)\n",
    "        if terminated or truncated:\n",
    "            break\n",
    "    env.close()\n"
   ]
  }
 ],
 "metadata": {
  "kernelspec": {
   "display_name": "Python 3",
   "language": "python",
   "name": "python3"
  },
  "language_info": {
   "codemirror_mode": {
    "name": "ipython",
    "version": 3
   },
   "file_extension": ".py",
   "mimetype": "text/x-python",
   "name": "python",
   "nbconvert_exporter": "python",
   "pygments_lexer": "ipython3",
   "version": "3.11.2"
  },
  "orig_nbformat": 4
 },
 "nbformat": 4,
 "nbformat_minor": 2
}
