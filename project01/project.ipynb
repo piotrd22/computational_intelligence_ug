{
 "cells": [
  {
   "cell_type": "code",
   "execution_count": 785,
   "metadata": {},
   "outputs": [],
   "source": [
    "import pygad\n",
    "import numpy as np"
   ]
  },
  {
   "cell_type": "code",
   "execution_count": 786,
   "metadata": {},
   "outputs": [
    {
     "name": "stdout",
     "output_type": "stream",
     "text": [
      "Board:\n",
      " [[0 0 0 0 0 0 0 0]\n",
      " [0 0 0 0 0 0 0 0]\n",
      " [0 0 0 0 0 0 0 0]\n",
      " [0 0 0 0 0 0 0 0]\n",
      " [0 0 0 0 0 0 0 0]\n",
      " [0 0 0 0 0 0 0 0]\n",
      " [0 0 0 0 0 0 0 0]\n",
      " [0 0 0 0 0 0 0 0]]\n"
     ]
    }
   ],
   "source": [
    "n = 8\n",
    "\n",
    "def createBoard(n: int) -> list[list[int]]:\n",
    "    return np.zeros((n, n), dtype=int)\n",
    "\n",
    "boardToShow = createBoard(n)\n",
    "print(\"Board:\\n\", boardToShow)"
   ]
  },
  {
   "cell_type": "code",
   "execution_count": 787,
   "metadata": {},
   "outputs": [],
   "source": [
    "def fulfillBoard(solution: list[int]) -> list[list[int]]:\n",
    "    board = createBoard(n)\n",
    "    \n",
    "    for i in range(len(solution)):\n",
    "        x = solution[i]\n",
    "        board[i][x] = 1\n",
    "\n",
    "    return board\n",
    "\n",
    "def checkColission(row: int, col: int, board: list[list[int]]) -> bool:\n",
    "    n = len(board)\n",
    "    \n",
    "    # Check row and column\n",
    "    if sum(board[row]) > 1 or sum([board[i][col] for i in range(n)]) > 1:\n",
    "        return True\n",
    "    \n",
    "    # Check diagonal\n",
    "    for i, j in zip(range(row, -1, -1), range(col, -1, -1)):\n",
    "        if board[i][j] == 1 and (i, j) != (row, col):\n",
    "            return True\n",
    "    for i, j in zip(range(row, n), range(col, -1, -1)):\n",
    "        if board[i][j] == 1 and (i, j) != (row, col):\n",
    "            return True\n",
    "    \n",
    "    return False\n",
    "\n",
    "def fitness_func(solution, solution_idx):\n",
    "    newSol = solution.astype(int)\n",
    "    attacks = 0\n",
    "    board = fulfillBoard(newSol)\n",
    "\n",
    "    for i in range(len(board)):\n",
    "        for j in range(len(board[i])):\n",
    "            if board[i][j] == 1:\n",
    "                if checkColission(i, j, board):\n",
    "                    attacks += 1\n",
    "                    \n",
    "    board = createBoard(n)\n",
    "    return (attacks * -1)\n",
    "\n",
    "fitness_function = fitness_func"
   ]
  },
  {
   "cell_type": "code",
   "execution_count": 788,
   "metadata": {},
   "outputs": [],
   "source": [
    "#sss = steady, rws=roulette, rank = rankingowa, tournament = turniejowa\n",
    "parent_selection_type = \"sss\"\n",
    "crossover_type = \"single_point\"\n",
    "mutation_type = \"random\"\n",
    "mutation_percent_genes = 8"
   ]
  },
  {
   "cell_type": "code",
   "execution_count": 789,
   "metadata": {},
   "outputs": [
    {
     "name": "stdout",
     "output_type": "stream",
     "text": [
      "Parameters of the best solution : [1 0]\n",
      "Fitness value of the best solution = -1\n"
     ]
    }
   ],
   "source": [
    "n = 2\n",
    "\n",
    "gene_space = np.arange(n)\n",
    "sol_per_pop = 50\n",
    "num_genes = n\n",
    "num_parents_mating = 20\n",
    "num_generations = 100\n",
    "keep_parents = 5\n",
    "\n",
    "ga_instance = pygad.GA(gene_space=gene_space,\n",
    "                       num_generations=num_generations,\n",
    "                       num_parents_mating=num_parents_mating,\n",
    "                       fitness_func=fitness_function,\n",
    "                       sol_per_pop=sol_per_pop,\n",
    "                       num_genes=num_genes,\n",
    "                       parent_selection_type=parent_selection_type,\n",
    "                       keep_parents=keep_parents,\n",
    "                       crossover_type=crossover_type,\n",
    "                       mutation_type=mutation_type,\n",
    "                       mutation_percent_genes=mutation_percent_genes)\n",
    "\n",
    "ga_instance.run()\n",
    "\n",
    "solution, solution_fitness, solution_idx = ga_instance.best_solution()\n",
    "print(\"Parameters of the best solution : {solution}\".format(solution=solution.astype(int)))\n",
    "print(\"Fitness value of the best solution = {solution_fitness}\".format(\n",
    "    solution_fitness=solution_fitness))\n",
    "\n",
    "ga_instance.plot_fitness()"
   ]
  },
  {
   "cell_type": "code",
   "execution_count": 790,
   "metadata": {},
   "outputs": [
    {
     "name": "stdout",
     "output_type": "stream",
     "text": [
      "Parameters of the best solution : [4 7 3 0 6 1 5 2]\n",
      "Fitness value of the best solution = 0\n"
     ]
    }
   ],
   "source": [
    "n = 8\n",
    "\n",
    "gene_space = np.arange(n)\n",
    "sol_per_pop = 50\n",
    "num_genes = n\n",
    "num_parents_mating = 20\n",
    "num_generations = 100\n",
    "keep_parents = 5\n",
    "\n",
    "ga_instance = pygad.GA(gene_space=gene_space,\n",
    "                       num_generations=num_generations,\n",
    "                       num_parents_mating=num_parents_mating,\n",
    "                       fitness_func=fitness_function,\n",
    "                       sol_per_pop=sol_per_pop,\n",
    "                       num_genes=num_genes,\n",
    "                       parent_selection_type=parent_selection_type,\n",
    "                       keep_parents=keep_parents,\n",
    "                       crossover_type=crossover_type,\n",
    "                       mutation_type=mutation_type,\n",
    "                       mutation_percent_genes=mutation_percent_genes)\n",
    "\n",
    "ga_instance.run()\n",
    "\n",
    "solution, solution_fitness, solution_idx = ga_instance.best_solution()\n",
    "print(\"Parameters of the best solution : {solution}\".format(solution=solution.astype(int)))\n",
    "print(\"Fitness value of the best solution = {solution_fitness}\".format(\n",
    "    solution_fitness=solution_fitness))\n",
    "\n",
    "ga_instance.plot_fitness()"
   ]
  },
  {
   "cell_type": "code",
   "execution_count": 791,
   "metadata": {},
   "outputs": [
    {
     "ename": "KeyboardInterrupt",
     "evalue": "",
     "output_type": "error",
     "traceback": [
      "\u001b[1;31m---------------------------------------------------------------------------\u001b[0m",
      "\u001b[1;31mKeyboardInterrupt\u001b[0m                         Traceback (most recent call last)",
      "Cell \u001b[1;32mIn[791], line 22\u001b[0m\n\u001b[0;32m      8\u001b[0m keep_parents \u001b[39m=\u001b[39m \u001b[39m45\u001b[39m\n\u001b[0;32m     10\u001b[0m ga_instance \u001b[39m=\u001b[39m pygad\u001b[39m.\u001b[39mGA(gene_space\u001b[39m=\u001b[39mgene_space,\n\u001b[0;32m     11\u001b[0m                        num_generations\u001b[39m=\u001b[39mnum_generations,\n\u001b[0;32m     12\u001b[0m                        num_parents_mating\u001b[39m=\u001b[39mnum_parents_mating,\n\u001b[1;32m   (...)\u001b[0m\n\u001b[0;32m     19\u001b[0m                        mutation_type\u001b[39m=\u001b[39mmutation_type,\n\u001b[0;32m     20\u001b[0m                        mutation_percent_genes\u001b[39m=\u001b[39mmutation_percent_genes)\n\u001b[1;32m---> 22\u001b[0m ga_instance\u001b[39m.\u001b[39;49mrun()\n\u001b[0;32m     24\u001b[0m solution, solution_fitness, solution_idx \u001b[39m=\u001b[39m ga_instance\u001b[39m.\u001b[39mbest_solution()\n\u001b[0;32m     25\u001b[0m \u001b[39mprint\u001b[39m(\u001b[39m\"\u001b[39m\u001b[39mParameters of the best solution : \u001b[39m\u001b[39m{solution}\u001b[39;00m\u001b[39m\"\u001b[39m\u001b[39m.\u001b[39mformat(solution\u001b[39m=\u001b[39msolution\u001b[39m.\u001b[39mastype(\u001b[39mint\u001b[39m)))\n",
      "File \u001b[1;32mc:\\Users\\Piotr Damrych\\AppData\\Local\\Programs\\Python\\Python311\\Lib\\site-packages\\pygad\\pygad.py:1582\u001b[0m, in \u001b[0;36mGA.run\u001b[1;34m(self)\u001b[0m\n\u001b[0;32m   1580\u001b[0m         \u001b[39mraise\u001b[39;00m \u001b[39mTypeError\u001b[39;00m(\u001b[39m\"\u001b[39m\u001b[39mThe type of the iterable holding the selected parents\u001b[39m\u001b[39m'\u001b[39m\u001b[39m indices is expected to be (numpy.ndarray) but \u001b[39m\u001b[39m{last_generation_parents_indices_type}\u001b[39;00m\u001b[39m found.\u001b[39m\u001b[39m\"\u001b[39m\u001b[39m.\u001b[39mformat(last_generation_parents_indices_type\u001b[39m=\u001b[39m\u001b[39mtype\u001b[39m(\u001b[39mself\u001b[39m\u001b[39m.\u001b[39mlast_generation_parents_indices)))\n\u001b[0;32m   1581\u001b[0m \u001b[39melse\u001b[39;00m:\n\u001b[1;32m-> 1582\u001b[0m     \u001b[39mself\u001b[39m\u001b[39m.\u001b[39mlast_generation_parents, \u001b[39mself\u001b[39m\u001b[39m.\u001b[39mlast_generation_parents_indices \u001b[39m=\u001b[39m \u001b[39mself\u001b[39;49m\u001b[39m.\u001b[39;49mselect_parents(\u001b[39mself\u001b[39;49m\u001b[39m.\u001b[39;49mlast_generation_fitness, num_parents\u001b[39m=\u001b[39;49m\u001b[39mself\u001b[39;49m\u001b[39m.\u001b[39;49mnum_parents_mating)\n\u001b[0;32m   1584\u001b[0m \u001b[39m# Validate the output of the parent selection step: self.select_parents()\u001b[39;00m\n\u001b[0;32m   1585\u001b[0m \u001b[39mif\u001b[39;00m \u001b[39mself\u001b[39m\u001b[39m.\u001b[39mlast_generation_parents\u001b[39m.\u001b[39mshape \u001b[39m!=\u001b[39m (\u001b[39mself\u001b[39m\u001b[39m.\u001b[39mnum_parents_mating, \u001b[39mself\u001b[39m\u001b[39m.\u001b[39mnum_genes):\n",
      "File \u001b[1;32mc:\\Users\\Piotr Damrych\\AppData\\Local\\Programs\\Python\\Python311\\Lib\\site-packages\\pygad\\pygad.py:1759\u001b[0m, in \u001b[0;36mGA.steady_state_selection\u001b[1;34m(self, fitness, num_parents)\u001b[0m\n\u001b[0;32m   1757\u001b[0m     parents \u001b[39m=\u001b[39m numpy\u001b[39m.\u001b[39mempty((num_parents, \u001b[39mself\u001b[39m\u001b[39m.\u001b[39mpopulation\u001b[39m.\u001b[39mshape[\u001b[39m1\u001b[39m]), dtype\u001b[39m=\u001b[39m\u001b[39mobject\u001b[39m)\n\u001b[0;32m   1758\u001b[0m \u001b[39mfor\u001b[39;00m parent_num \u001b[39min\u001b[39;00m \u001b[39mrange\u001b[39m(num_parents):\n\u001b[1;32m-> 1759\u001b[0m     parents[parent_num, :] \u001b[39m=\u001b[39m \u001b[39mself\u001b[39m\u001b[39m.\u001b[39mpopulation[fitness_sorted[parent_num], :]\u001b[39m.\u001b[39mcopy()\n\u001b[0;32m   1761\u001b[0m \u001b[39mreturn\u001b[39;00m parents, numpy\u001b[39m.\u001b[39marray(fitness_sorted[:num_parents])\n",
      "\u001b[1;31mKeyboardInterrupt\u001b[0m: "
     ]
    }
   ],
   "source": [
    "n = 20\n",
    "\n",
    "gene_space = np.arange(n)\n",
    "sol_per_pop = 450\n",
    "num_genes = n\n",
    "num_parents_mating = 120\n",
    "num_generations = 300\n",
    "keep_parents = 45\n",
    "\n",
    "ga_instance = pygad.GA(gene_space=gene_space,\n",
    "                       num_generations=num_generations,\n",
    "                       num_parents_mating=num_parents_mating,\n",
    "                       fitness_func=fitness_function,\n",
    "                       sol_per_pop=sol_per_pop,\n",
    "                       num_genes=num_genes,\n",
    "                       parent_selection_type=parent_selection_type,\n",
    "                       keep_parents=keep_parents,\n",
    "                       crossover_type=crossover_type,\n",
    "                       mutation_type=mutation_type,\n",
    "                       mutation_percent_genes=mutation_percent_genes)\n",
    "\n",
    "ga_instance.run()\n",
    "\n",
    "solution, solution_fitness, solution_idx = ga_instance.best_solution()\n",
    "print(\"Parameters of the best solution : {solution}\".format(solution=solution.astype(int)))\n",
    "print(\"Fitness value of the best solution = {solution_fitness}\".format(\n",
    "    solution_fitness=solution_fitness))\n",
    "\n",
    "ga_instance.plot_fitness()"
   ]
  }
 ],
 "metadata": {
  "kernelspec": {
   "display_name": "Python 3",
   "language": "python",
   "name": "python3"
  },
  "language_info": {
   "codemirror_mode": {
    "name": "ipython",
    "version": 3
   },
   "file_extension": ".py",
   "mimetype": "text/x-python",
   "name": "python",
   "nbconvert_exporter": "python",
   "pygments_lexer": "ipython3",
   "version": "3.11.2"
  },
  "orig_nbformat": 4
 },
 "nbformat": 4,
 "nbformat_minor": 2
}
