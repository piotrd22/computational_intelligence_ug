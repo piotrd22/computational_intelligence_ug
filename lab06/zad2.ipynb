{
 "cells": [
  {
   "cell_type": "code",
   "execution_count": 26,
   "metadata": {},
   "outputs": [],
   "source": [
    "import pandas as pd\n",
    "from sklearn.model_selection import train_test_split\n",
    "from sklearn.neural_network import MLPClassifier\n",
    "from sklearn.metrics import accuracy_score\n",
    "import numpy as np"
   ]
  },
  {
   "cell_type": "code",
   "execution_count": 27,
   "metadata": {},
   "outputs": [],
   "source": [
    "df = pd.read_csv(\"iris.csv\")\n",
    "\n",
    "species = df[['species']].replace(['setosa', 'versicolor', 'virginica'], [0, 1, 2])\n",
    "\n",
    "values = df.values[:, 0:4]\n",
    "labels = species.values\n",
    "\n",
    "(train_values, test_values, train_label, test_label) = train_test_split(values, labels, train_size=0.7)"
   ]
  },
  {
   "cell_type": "code",
   "execution_count": 28,
   "metadata": {},
   "outputs": [
    {
     "name": "stdout",
     "output_type": "stream",
     "text": [
      "Accuracy on train data set:  0.6857142857142857\n",
      "Accuracy on test data set:  0.6222222222222222\n"
     ]
    }
   ],
   "source": [
    "clf = MLPClassifier(solver='lbfgs', alpha=1e-5, hidden_layer_sizes=(2, ), random_state=1)\n",
    "\n",
    "clf.fit(train_values, train_label.ravel()) \n",
    "\n",
    "predictions_train = clf.predict(train_values)\n",
    "predictions_test = clf.predict(test_values)\n",
    "\n",
    "print(\"Accuracy on train data set: \", accuracy_score(predictions_train, train_label))\n",
    "print(\"Accuracy on test data set: \", accuracy_score(predictions_test, test_label))"
   ]
  },
  {
   "cell_type": "code",
   "execution_count": 29,
   "metadata": {},
   "outputs": [
    {
     "name": "stdout",
     "output_type": "stream",
     "text": [
      "Accuracy on train data set:  0.37142857142857144\n",
      "Accuracy on test data set:  0.24444444444444444\n"
     ]
    }
   ],
   "source": [
    "clf = MLPClassifier(solver='lbfgs', alpha=1e-5, hidden_layer_sizes=(3, ), random_state=1)\n",
    "\n",
    "clf.fit(train_values, train_label.ravel()) \n",
    "\n",
    "predictions_train = clf.predict(train_values)\n",
    "predictions_test = clf.predict(test_values)\n",
    "\n",
    "print(\"Accuracy on train data set: \", accuracy_score(predictions_train, train_label))\n",
    "print(\"Accuracy on test data set: \", accuracy_score(predictions_test, test_label))"
   ]
  },
  {
   "cell_type": "code",
   "execution_count": 30,
   "metadata": {},
   "outputs": [
    {
     "name": "stdout",
     "output_type": "stream",
     "text": [
      "Accuracy on train data set:  0.9904761904761905\n",
      "Accuracy on test data set:  1.0\n"
     ]
    }
   ],
   "source": [
    "clf = MLPClassifier(solver='lbfgs', alpha=1e-5, hidden_layer_sizes=(3, 3), random_state=1)\n",
    "\n",
    "clf.fit(train_values, train_label.ravel()) \n",
    "\n",
    "predictions_train = clf.predict(train_values)\n",
    "predictions_test = clf.predict(test_values)\n",
    "\n",
    "print(\"Accuracy on train data set: \", accuracy_score(predictions_train, train_label))\n",
    "print(\"Accuracy on test data set: \", accuracy_score(predictions_test, test_label))\n",
    "\n",
    "# best accuracy"
   ]
  }
 ],
 "metadata": {
  "kernelspec": {
   "display_name": "Python 3",
   "language": "python",
   "name": "python3"
  },
  "language_info": {
   "codemirror_mode": {
    "name": "ipython",
    "version": 3
   },
   "file_extension": ".py",
   "mimetype": "text/x-python",
   "name": "python",
   "nbconvert_exporter": "python",
   "pygments_lexer": "ipython3",
   "version": "3.11.2"
  },
  "orig_nbformat": 4
 },
 "nbformat": 4,
 "nbformat_minor": 2
}
